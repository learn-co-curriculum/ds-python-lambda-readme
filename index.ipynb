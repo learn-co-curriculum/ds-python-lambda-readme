{
 "cells": [
  {
   "cell_type": "markdown",
   "metadata": {},
   "source": [
    "# Lambda Functions in Python\n",
    "\n",
    "## Objectives\n",
    "* Describe and differentiate lambda functions from `def` functions.\n",
    "* Define lambda functions according to the expected syntax. \n",
    "* Understand and apply lambda functions for suitable use cases.\n",
    "* Use lambda functions with python's built-in functions `map()` and `filter()`."
   ]
  },
  {
   "cell_type": "markdown",
   "metadata": {},
   "source": [
    "## Introduction\n",
    "So far, we have written our own python functions using the `def` approach. Python also supports the creation of anonymous functions (i.e. functions that are not bound to a name). These are usually known as **lambda functions** because we use keyword `lambda` to define these functions. A lambda function can take any number of arguments, but can only have one expression.\n",
    "\n",
    "Like `def` , the `lambda` creates a function to be called later. It returns the function instead of assigning it to a name. This is why lambda functions are known as anonymous functions. In practice, they are used as a way to in-line a function definition, or to defer execution of a code. This lesson will help you understand the syntax and some common use cases for lambda function declaration.\n",
    "\n",
    "First we shall see the difference between `lambda` and `def` function declaration for a simple calculation i.e. calculating and returning the square of a number passed into the function. "
   ]
  },
  {
   "cell_type": "code",
   "execution_count": 35,
   "metadata": {},
   "outputs": [
    {
     "data": {
      "text/plain": [
       "9"
      ]
     },
     "execution_count": 35,
     "metadata": {},
     "output_type": "execute_result"
    }
   ],
   "source": [
    "# Define a function using def\n",
    "def function(x):\n",
    "    ans = x**2\n",
    "    return ans\n",
    "function(3)"
   ]
  },
  {
   "cell_type": "code",
   "execution_count": 2,
   "metadata": {},
   "outputs": [
    {
     "data": {
      "text/plain": [
       "9"
      ]
     },
     "execution_count": 2,
     "metadata": {},
     "output_type": "execute_result"
    }
   ],
   "source": [
    "# Define the same function using lambda\n",
    "ans = lambda x : x**2\n",
    "ans(3)"
   ]
  },
  {
   "cell_type": "markdown",
   "metadata": {},
   "source": [
    "As we can see that both `def` and `lambda` function declarations result the same answer. However, Unlike `def`, `lambda` functions do not contain a return statement. These functions contain an expression which is always is returned when the function gets called. Lambda function can be introduced anywhere in a python script, and don't need variable assignments in advance."
   ]
  },
  {
   "cell_type": "markdown",
   "metadata": {},
   "source": [
    " The general syntax of lambda functions can be shown as: \n",
    " >** lambda arg1, arg2, .. , argN : expression using given arguments**"
   ]
  },
  {
   "cell_type": "markdown",
   "metadata": {},
   "source": [
    "## Declaring lambda expressions in Python\n",
    "\n",
    "![](lambda.png)\n",
    "\n",
    "To declare a lambda function, you start from the `lambda` keyword."
   ]
  },
  {
   "cell_type": "code",
   "execution_count": 3,
   "metadata": {},
   "outputs": [
    {
     "data": {
      "text/plain": [
       "<function __main__.<lambda>>"
      ]
     },
     "execution_count": 3,
     "metadata": {},
     "output_type": "execute_result"
    }
   ],
   "source": [
    "lambda x:x**2"
   ]
  },
  {
   "cell_type": "markdown",
   "metadata": {},
   "source": [
    "This returns a function which can be assigned to a variable name for calling it later and providing arguments to it. "
   ]
  },
  {
   "cell_type": "code",
   "execution_count": 31,
   "metadata": {},
   "outputs": [],
   "source": [
    "square = lambda x:x**2"
   ]
  },
  {
   "cell_type": "markdown",
   "metadata": {},
   "source": [
    "Here, `x` is the argument, and `x**2` is the expression. You would call it like you would call a `def` Python function. You can pass in values similarly as shown below:"
   ]
  },
  {
   "cell_type": "code",
   "execution_count": 5,
   "metadata": {},
   "outputs": [
    {
     "data": {
      "text/plain": [
       "100"
      ]
     },
     "execution_count": 5,
     "metadata": {},
     "output_type": "execute_result"
    }
   ],
   "source": [
    "square(10)"
   ]
  },
  {
   "cell_type": "markdown",
   "metadata": {},
   "source": [
    "### What is an expression ?"
   ]
  },
  {
   "cell_type": "markdown",
   "metadata": {},
   "source": [
    "Lambda functions return `expressions`. An expression here is similar to what we would put in the return statement of a `def` function. The following are examples of expressions.\n",
    "\n",
    "* **Arithmetic Operations** like `a+b` or `a^b`\n",
    "* **Function Calls** like `multiply(a,b)`\n",
    "* **Print Statement** like `print(“ Lambdas are great ”)`\n",
    "\n",
    "Assignment statements like `(a = b)` cannot be provided as expressions because these do not return a value. "
   ]
  },
  {
   "cell_type": "markdown",
   "metadata": {},
   "source": [
    "### Expression syntax"
   ]
  },
  {
   "cell_type": "markdown",
   "metadata": {},
   "source": [
    "Expressions may use variables that have been previously defined in the script. However, in the case of arguments passed to the lambda function, these **MUST** provide the expected value to lambda function, otherwise it'll throw an error. Let's see this below:"
   ]
  },
  {
   "cell_type": "code",
   "execution_count": 13,
   "metadata": {},
   "outputs": [
    {
     "ename": "TypeError",
     "evalue": "<lambda>() missing 2 required positional arguments: 'x' and 'y'",
     "output_type": "error",
     "traceback": [
      "\u001b[0;31m---------------------------------------------------------------------------\u001b[0m",
      "\u001b[0;31mTypeError\u001b[0m                                 Traceback (most recent call last)",
      "\u001b[0;32m<ipython-input-13-8d76aaa4b9cb>\u001b[0m in \u001b[0;36m<module>\u001b[0;34m()\u001b[0m\n\u001b[1;32m      3\u001b[0m \u001b[0;34m\u001b[0m\u001b[0m\n\u001b[1;32m      4\u001b[0m \u001b[0mout\u001b[0m \u001b[0;34m=\u001b[0m \u001b[0;32mlambda\u001b[0m \u001b[0mx\u001b[0m\u001b[0;34m,\u001b[0m\u001b[0my\u001b[0m \u001b[0;34m:\u001b[0m \u001b[0mx\u001b[0m\u001b[0;34m*\u001b[0m\u001b[0my\u001b[0m\u001b[0;34m\u001b[0m\u001b[0m\n\u001b[0;32m----> 5\u001b[0;31m \u001b[0mout\u001b[0m\u001b[0;34m(\u001b[0m\u001b[0;34m)\u001b[0m\u001b[0;34m\u001b[0m\u001b[0m\n\u001b[0m",
      "\u001b[0;31mTypeError\u001b[0m: <lambda>() missing 2 required positional arguments: 'x' and 'y'"
     ]
    }
   ],
   "source": [
    "x = 10\n",
    "y = 5\n",
    "\n",
    "out = lambda x,y : x*y\n",
    "out()"
   ]
  },
  {
   "cell_type": "markdown",
   "metadata": {},
   "source": [
    "In the error above, we see that the function is missing x and y as arguments containing values for the expression. "
   ]
  },
  {
   "cell_type": "code",
   "execution_count": 15,
   "metadata": {},
   "outputs": [
    {
     "ename": "TypeError",
     "evalue": "<lambda>() missing 1 required positional argument: 'x'",
     "output_type": "error",
     "traceback": [
      "\u001b[0;31m---------------------------------------------------------------------------\u001b[0m",
      "\u001b[0;31mTypeError\u001b[0m                                 Traceback (most recent call last)",
      "\u001b[0;32m<ipython-input-15-d5211347e660>\u001b[0m in \u001b[0;36m<module>\u001b[0;34m()\u001b[0m\n\u001b[1;32m      1\u001b[0m \u001b[0mout\u001b[0m \u001b[0;34m=\u001b[0m \u001b[0;32mlambda\u001b[0m \u001b[0mx\u001b[0m \u001b[0;34m:\u001b[0m \u001b[0mx\u001b[0m\u001b[0;34m*\u001b[0m\u001b[0my\u001b[0m\u001b[0;34m\u001b[0m\u001b[0m\n\u001b[0;32m----> 2\u001b[0;31m \u001b[0mout\u001b[0m\u001b[0;34m(\u001b[0m\u001b[0;34m)\u001b[0m\u001b[0;34m\u001b[0m\u001b[0m\n\u001b[0m",
      "\u001b[0;31mTypeError\u001b[0m: <lambda>() missing 1 required positional argument: 'x'"
     ]
    }
   ],
   "source": [
    "out = lambda x : x*y\n",
    "out()"
   ]
  },
  {
   "cell_type": "markdown",
   "metadata": {},
   "source": [
    "Here the function is still missing one value , hence the error is returned. \n",
    "\n",
    "So how do we get it right ? Have a look below:"
   ]
  },
  {
   "cell_type": "code",
   "execution_count": 16,
   "metadata": {},
   "outputs": [
    {
     "data": {
      "text/plain": [
       "50"
      ]
     },
     "execution_count": 16,
     "metadata": {},
     "output_type": "execute_result"
    }
   ],
   "source": [
    "out = lambda : x*y\n",
    "out()"
   ]
  },
  {
   "cell_type": "markdown",
   "metadata": {},
   "source": [
    "So finally we have a lambda function with no missing valued arguments. We also saw that it is not necessary to provide arguments to the lambda function."
   ]
  },
  {
   "cell_type": "markdown",
   "metadata": {},
   "source": [
    "At this stage, we have learnt that:\n",
    "* Lambda is an expression, not a statement.\n",
    "* Lambda's body contains a single statement, not a sequence of statements. \n",
    "* Lambda functions can operate without input arguments. \n",
    "\n",
    "Let's now have a look at some use cases where you might want to use lambda functions."
   ]
  },
  {
   "cell_type": "markdown",
   "metadata": {},
   "source": [
    "## Lambda functions use cases ?"
   ]
  },
  {
   "cell_type": "markdown",
   "metadata": {},
   "source": [
    "The lambdas can be used as a function shorthand that allows us to embed a function within the code. Following are some of the common use cases for lambda functions:\n",
    "\n",
    "#### Single statement functions\n",
    "\n",
    "The ideal use case for using lambda function is when we only have a single statement to execute as seen above. For example, imagine we want to print a string `\"hello lambda\"` in a function called `greet()`. This function would require only a single statement in its body as below:"
   ]
  },
  {
   "cell_type": "code",
   "execution_count": 32,
   "metadata": {},
   "outputs": [
    {
     "name": "stdout",
     "output_type": "stream",
     "text": [
      "hello lambda\n"
     ]
    }
   ],
   "source": [
    "def greet():\n",
    "    print ('hello lambda')\n",
    "    return\n",
    "greet()"
   ]
  },
  {
   "cell_type": "markdown",
   "metadata": {},
   "source": [
    "This functionality can be reproduced through a lambda function in a single line of code:"
   ]
  },
  {
   "cell_type": "code",
   "execution_count": 33,
   "metadata": {},
   "outputs": [
    {
     "name": "stdout",
     "output_type": "stream",
     "text": [
      "hello lambda\n"
     ]
    }
   ],
   "source": [
    "greet = lambda : print ('hello lambda')\n",
    "greet()"
   ]
  },
  {
   "cell_type": "markdown",
   "metadata": {},
   "source": [
    "#### Creating jump tables\n",
    "A jump table is an array of pointers to functions. Lambda functions can simplify the creation of jump tables by performing actions on lists (or dictionaries) on demand. Let's have a look at following example:"
   ]
  },
  {
   "cell_type": "code",
   "execution_count": 17,
   "metadata": {},
   "outputs": [
    {
     "name": "stdout",
     "output_type": "stream",
     "text": [
      "25\n",
      "125\n",
      "625\n"
     ]
    }
   ],
   "source": [
    "lst = [lambda x: x ** 2, lambda x: x ** 3, lambda x: x ** 4]\n",
    "for lamb in lst:\n",
    "    print (lamb(5))"
   ]
  },
  {
   "cell_type": "markdown",
   "metadata": {},
   "source": [
    "Above, we created a list with three lambda functions embedded inside the list. A `def` can't work inside a list because it is a statement, not an expression. \n",
    "\n",
    "Let's try doing it with `def` this time. We would need to define some temporary function names and definitions as below:"
   ]
  },
  {
   "cell_type": "code",
   "execution_count": 20,
   "metadata": {},
   "outputs": [
    {
     "name": "stdout",
     "output_type": "stream",
     "text": [
      "25\n",
      "125\n",
      "625\n"
     ]
    }
   ],
   "source": [
    "def func1(x): \n",
    "    return x ** 2\n",
    "def func2(x): \n",
    "    return x ** 3\n",
    "def func3(x): \n",
    "    return x ** 4\n",
    "\n",
    "lst = [func1, func2, func3]\n",
    "for func in lst:\n",
    "    print (func(5))"
   ]
  },
  {
   "cell_type": "markdown",
   "metadata": {},
   "source": [
    "#### Conditionals with lambda functions"
   ]
  },
  {
   "cell_type": "markdown",
   "metadata": {},
   "source": [
    "Lambda functions can also embed if-else statements. the syntax for using conditionals within lambda function can be seen from the example below where the function computes and output minimum value from input arguments. Syntax used for this can be generalized as:\n",
    "> **lambda arg1,arg2 : expression1 if (condition=True) else expression2**\n",
    "\n",
    "Let's see this in action:"
   ]
  },
  {
   "cell_type": "code",
   "execution_count": 34,
   "metadata": {},
   "outputs": [
    {
     "name": "stdout",
     "output_type": "stream",
     "text": [
      "2\n",
      "7500\n"
     ]
    }
   ],
   "source": [
    "minimum = (lambda a,b : a if a < b else b)\n",
    "print(minimum(2,3))\n",
    "print(minimum(25*300, 49*200))"
   ]
  },
  {
   "cell_type": "markdown",
   "metadata": {},
   "source": [
    "#### Lambda with `map()` and `filter()`"
   ]
  },
  {
   "cell_type": "markdown",
   "metadata": {},
   "source": [
    "Python lambda functions can be applied to other built-in functions like `filter()` and `map()` e.g. to filter out elements from a list or dictionary. Let's see how this is achieved. First we shall create a list of numbers:"
   ]
  },
  {
   "cell_type": "code",
   "execution_count": 25,
   "metadata": {},
   "outputs": [
    {
     "data": {
      "text/plain": [
       "[1, 2, 3, 4, 5, 6, 7, 8, 9, 10]"
      ]
     },
     "execution_count": 25,
     "metadata": {},
     "output_type": "execute_result"
    }
   ],
   "source": [
    "nums = list(range(1,11))\n",
    "nums"
   ]
  },
  {
   "cell_type": "markdown",
   "metadata": {},
   "source": [
    "Let's say we now want to filter the `nums` list and create another list containing only the even numbers from `nums`. We can use the `filter()` function which takes in two parameters i.e. a function and a list to process. We can write the lambda function as follows:"
   ]
  },
  {
   "cell_type": "code",
   "execution_count": 28,
   "metadata": {},
   "outputs": [
    {
     "data": {
      "text/plain": [
       "[2, 4, 6, 8, 10]"
      ]
     },
     "execution_count": 28,
     "metadata": {},
     "output_type": "execute_result"
    }
   ],
   "source": [
    "list(filter(lambda x : x % 2 == 0, nums))"
   ]
  },
  {
   "cell_type": "markdown",
   "metadata": {},
   "source": [
    "We used `list()` above to convert the filter object into an array for display. Also note that this operation does not change the original list of numbers in any way. \n",
    "\n",
    "Another built-in python function called `map()` can also work with lambda functions. `map()` function maps every element of given list to the expression and returns the results. Let's try lambda and map for above example:"
   ]
  },
  {
   "cell_type": "code",
   "execution_count": 30,
   "metadata": {
    "scrolled": true
   },
   "outputs": [
    {
     "data": {
      "text/plain": [
       "[False, True, False, True, False, True, False, True, False, True]"
      ]
     },
     "execution_count": 30,
     "metadata": {},
     "output_type": "execute_result"
    }
   ],
   "source": [
    "list(map(lambda x:x%2==0,nums))"
   ]
  },
  {
   "cell_type": "markdown",
   "metadata": {},
   "source": [
    "Here, a True value is returned every time a list element satisfies the condition given in the expression, and returns a false otherwise. "
   ]
  },
  {
   "cell_type": "markdown",
   "metadata": {},
   "source": [
    "## Summary\n",
    "\n",
    "In this lesson, we looked at lambda functions in python. We learnt how to declare lambda functions with the expected syntax. We also had a look at what exactly is an expression and how to define one in a lambda function. Finally we saw some common use cases for lambda functions and how they may prove more productive than `def` functions in certain circumstances. "
   ]
  },
  {
   "cell_type": "code",
   "execution_count": null,
   "metadata": {},
   "outputs": [],
   "source": []
  }
 ],
 "metadata": {
  "kernelspec": {
   "display_name": "Python 3",
   "language": "python",
   "name": "python3"
  },
  "language_info": {
   "codemirror_mode": {
    "name": "ipython",
    "version": 3
   },
   "file_extension": ".py",
   "mimetype": "text/x-python",
   "name": "python",
   "nbconvert_exporter": "python",
   "pygments_lexer": "ipython3",
   "version": "3.6.4"
  }
 },
 "nbformat": 4,
 "nbformat_minor": 2
}
